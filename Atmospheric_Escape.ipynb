{
  "nbformat": 4,
  "nbformat_minor": 0,
  "metadata": {
    "colab": {
      "provenance": [],
      "authorship_tag": "ABX9TyMn0u0jzSpAooR5K3wOGfpn",
      "include_colab_link": true
    },
    "kernelspec": {
      "name": "python3",
      "display_name": "Python 3"
    },
    "language_info": {
      "name": "python"
    }
  },
  "cells": [
    {
      "cell_type": "markdown",
      "metadata": {
        "id": "view-in-github",
        "colab_type": "text"
      },
      "source": [
        "<a href=\"https://colab.research.google.com/github/Jsk10101/PlanetarySci-Phys5205/blob/main/Atmospheric_Escape.ipynb\" target=\"_parent\"><img src=\"https://colab.research.google.com/assets/colab-badge.svg\" alt=\"Open In Colab\"/></a>"
      ]
    },
    {
      "cell_type": "markdown",
      "source": [
        "## Notebook on Atmospheric Loss"
      ],
      "metadata": {
        "id": "scDAfwUBUJen"
      }
    },
    {
      "cell_type": "code",
      "source": [
        "# Import Necessary libraries\n",
        "import numpy as np\n",
        "import astropy.units as u\n",
        "import astropy.constants as ac"
      ],
      "metadata": {
        "id": "UjEmh73yP04c"
      },
      "execution_count": 2,
      "outputs": []
    },
    {
      "cell_type": "code",
      "source": [
        "# Finding the scale height of our atmosphere\n",
        "mu = 29.0 * ac.m_p\n",
        "g = 9.8 * u.m / u.s**2\n",
        "T = 300 * u.K\n",
        "H = ac.k_B * T / (mu * g)\n",
        "print(\"Scale height of Earth atmospehre is \", H.to(u.km))"
      ],
      "metadata": {
        "colab": {
          "base_uri": "https://localhost:8080/"
        },
        "id": "FaMThP5nQu30",
        "outputId": "6125688a-53e5-47d3-b541-8cd1a3755d98"
      },
      "execution_count": 3,
      "outputs": [
        {
          "output_type": "stream",
          "name": "stdout",
          "text": [
            "Scale height of Earth atmospehre is  8.713300235811277 km\n"
          ]
        }
      ]
    },
    {
      "cell_type": "markdown",
      "source": [
        "**Lapse Rate - Order of Magnitude**"
      ],
      "metadata": {
        "id": "SFmVcz3rQyLX"
      }
    },
    {
      "cell_type": "code",
      "source": [
        "lapse_rate = mu * g / ac.k_B\n",
        "print(\"Temperature change in the atmosphere is \", lapse_rate.to(u.K/u.km))"
      ],
      "metadata": {
        "colab": {
          "base_uri": "https://localhost:8080/"
        },
        "id": "vi7a9GtEQ2Jy",
        "outputId": "6f33256a-5195-4d98-9f85-1018ff783fde"
      },
      "execution_count": 4,
      "outputs": [
        {
          "output_type": "stream",
          "name": "stdout",
          "text": [
            "Temperature change in the atmosphere is  34.43012313141849 K / km\n"
          ]
        }
      ]
    },
    {
      "cell_type": "markdown",
      "source": [
        "This tells us the temperature change in the atmosphere per km increase in height. It helps us to understand with tops of mountains are significantly cooler then sea level and how density of air changes based on scale height"
      ],
      "metadata": {
        "id": "83F57EuwPrCN"
      }
    },
    {
      "cell_type": "markdown",
      "source": [
        "**Lapse Rate - more precise**"
      ],
      "metadata": {
        "id": "pt-dUIe9Q39T"
      }
    },
    {
      "cell_type": "code",
      "source": [
        "rho = 1.2 * u.kg / u.m**3\n",
        "gamma = 7. / 5.\n",
        "T = 300 * u.K\n",
        "T0 = 300 * u.K\n",
        "P0 = 1 * u.bar\n",
        "lapse_rate = rho * g / P0 * T0 * (gamma - 1.) / gamma * (T/T0)**(-1. / (gamma - 1))\n",
        "print(\"Temperature change in the atmosphere is \", lapse_rate.to(u.K/u.km))"
      ],
      "metadata": {
        "colab": {
          "base_uri": "https://localhost:8080/"
        },
        "id": "9CBomhbMQ4YV",
        "outputId": "c1b109e5-5603-4e58-be53-2c34ba5e0847"
      },
      "execution_count": 5,
      "outputs": [
        {
          "output_type": "stream",
          "name": "stdout",
          "text": [
            "Temperature change in the atmosphere is  10.079999999999998 K / km\n"
          ]
        }
      ]
    },
    {
      "cell_type": "markdown",
      "source": [
        "Now, when we take into account rho which describes the density of the atmosphere at different locations, we get a better estimation for the real temperature change in the atmosphere per km. Gamma is another quantity which describes the adiabatic index which is a ratio of the specific heats within the fluids in the atmosphere"
      ],
      "metadata": {
        "id": "nAfgu4aFP9fn"
      }
    },
    {
      "cell_type": "markdown",
      "source": [
        "**Atmospheric escape** $\\dot{M} = \\frac{L_\\odot R_\\oplus^3}{4G (0.1 AU)^2M_\\oplus}$"
      ],
      "metadata": {
        "id": "MTfN_OjTPN6V"
      }
    },
    {
      "cell_type": "code",
      "execution_count": 6,
      "metadata": {
        "colab": {
          "base_uri": "https://localhost:8080/"
        },
        "id": "ZWnnR9blPLJZ",
        "outputId": "eddfd162-071f-4ad8-d394-5b444c9a046b"
      },
      "outputs": [
        {
          "output_type": "stream",
          "name": "stdout",
          "text": [
            "Atmosphere escape rate:  1.4708531549811543e-06 earthMass / yr\n"
          ]
        }
      ],
      "source": [
        "m_dot = u.solLum * u.earthRad**3 / (4* ac.G * (0.1 * u.AU)**2 * u.earthMass)\n",
        "print(\"Atmosphere escape rate: \", m_dot.to(u.earthMass/u.year))"
      ]
    },
    {
      "cell_type": "markdown",
      "source": [
        "Earth atmospheric mass is about 1e-6 earth total mass. Why is the value of our atmospheic escape rate so close to this? Let's look more closely at the atmospheric mass of the Earth and understand this rate"
      ],
      "metadata": {
        "id": "-Pc29TyCQBPQ"
      }
    },
    {
      "cell_type": "code",
      "source": [
        "rho_atm = 1 * u.kg / u.m**3\n",
        "atm_mass = 4 * np.pi * u.earthRad**2 * H * 1 * rho_atm\n",
        "print(\"Atmosphere mass is \", atm_mass.to(u.earthMass))"
      ],
      "metadata": {
        "colab": {
          "base_uri": "https://localhost:8080/"
        },
        "id": "r3Vg-mltP6ER",
        "outputId": "62b13ee3-62e9-448f-a390-7329894d38a4"
      },
      "execution_count": 7,
      "outputs": [
        {
          "output_type": "stream",
          "name": "stdout",
          "text": [
            "Atmosphere mass is  7.458357295631288e-07 earthMass\n"
          ]
        }
      ]
    },
    {
      "cell_type": "markdown",
      "source": [
        "This Atmospheric escape rate calculated above is actually larger then the true atmospheric mass of the earth. So what's real going on here?"
      ],
      "metadata": {
        "id": "XMh8yyu5Qq93"
      }
    },
    {
      "cell_type": "markdown",
      "source": [
        "Not all photons from the host star can drive particle to escape from the atmosphere. What is the corresponding wavelengths that are capable of driving atmospheric escape? The equation is formulated as: $h\\frac{c}{\\lambda} = \\frac{G M_p \\mu}{R_p}$"
      ],
      "metadata": {
        "id": "mZWILQAhRLZz"
      }
    },
    {
      "cell_type": "code",
      "source": [
        "mu = 2.3 * ac.m_p\n",
        "E_esc = ac.G * u.earthMass * mu / u.earthRad\n",
        "wav = ac.h * ac.c / E_esc\n",
        "print(\"Wavelength of escape is \", wav.to(u.um))"
      ],
      "metadata": {
        "colab": {
          "base_uri": "https://localhost:8080/"
        },
        "id": "AXGlks8-QNpx",
        "outputId": "63e32d6d-1ba0-4dba-df18-9eb53f0c86f5"
      },
      "execution_count": 8,
      "outputs": [
        {
          "output_type": "stream",
          "name": "stdout",
          "text": [
            "Wavelength of escape is  0.826237125481894 um\n"
          ]
        }
      ]
    },
    {
      "cell_type": "markdown",
      "source": [
        "The above value is the bare mininum, but in reality, it is the UV and X-ray that drives the atmospheric escape. The UV and X-ray photons only account for 1e-5 of the total solar luminosity when the sun is young, so $\\dot{M} \\sim 10^{-5} M_\\oplus/Myr \\left(\\frac{\\eta}{10^{-5}}\\right)\\left(\\frac{L}{L_\\odot}\\right)\\left(\\frac{a}{0.1\\ AU}\\right)^{-2}\\left(\\frac{M_p}{M_\\oplus}\\right)^{3\\alpha-1}$, where $\\alpha$ is the power of mass-radius relationship. In this equation, we include 10e-5 to account for the fact that these photos are only UV and X-rays from the star"
      ],
      "metadata": {
        "id": "XHveYOi8RQsa"
      }
    },
    {
      "cell_type": "code",
      "source": [
        "# For an Earth-sized planet with 1e-3 Earth mass atmosphere\n",
        "atm_frac = 1e-3\n",
        "Mp = 1 * u.earthMass\n",
        "m_dot = 1e-5 * u.earthMass / u.Myr\n",
        "t_loss = atm_frac * Mp / m_dot\n",
        "print(\"Time to loss is \", t_loss.to(u.Myr))"
      ],
      "metadata": {
        "colab": {
          "base_uri": "https://localhost:8080/"
        },
        "id": "P8BxkVKURN7M",
        "outputId": "e4a9ffa7-04ef-4d39-aca4-505e0e31104b"
      },
      "execution_count": 15,
      "outputs": [
        {
          "output_type": "stream",
          "name": "stdout",
          "text": [
            "Time to loss is  100.0 Myr\n"
          ]
        }
      ]
    },
    {
      "cell_type": "markdown",
      "source": [
        "This timescale is long but still much shorter then the actual timescale for atmospheric escape on Earth. We know the Earth has real had it's atmosphere for most of its life, around 4.5 billion years (4.5 Gyr = 4500 Myr). Lets explore this atmospheric relationship under other initial conditions."
      ],
      "metadata": {
        "id": "FQRjKrX7Rqb-"
      }
    },
    {
      "cell_type": "code",
      "source": [
        "# For an Mp = 8 * M_earth planet with 1e-2 Earth mass atmosphere\n",
        "atm_frac = 1e-2\n",
        "Mp = 8 * u.earthMass\n",
        "alpha = 0.3\n",
        "m_dot = 1e-5 * u.earthMass / u.Myr * (Mp / u.earthMass)**(3.0 * alpha - 1.0)\n",
        "t_loss = atm_frac * Mp / m_dot\n",
        "print(\"Time to loss is \", t_loss.to(u.Myr))"
      ],
      "metadata": {
        "colab": {
          "base_uri": "https://localhost:8080/"
        },
        "id": "kku1ahO7RVwk",
        "outputId": "26a005d9-e978-4c00-dd64-0b175b5abe19"
      },
      "execution_count": 17,
      "outputs": [
        {
          "output_type": "stream",
          "name": "stdout",
          "text": [
            "Time to loss is  9849.15530675933 Myr\n"
          ]
        }
      ]
    },
    {
      "cell_type": "markdown",
      "source": [
        "Now, we've tried a mass larger then the earth with a bigger atmosphere fraction. It is still much smaller then the gas-giants, however, and more closely emulates a sub-neptune sized planet. It's atmospheric escape timescale is now much much larger, around 9.8 billion years. Almost any planet in the universe like this one would most definetly still have it's atmosphere since the timescale is so large."
      ],
      "metadata": {
        "id": "wDKj9HXiSGw4"
      }
    },
    {
      "cell_type": "code",
      "source": [
        "# For an Mp = 18 * M_earth planet with 1e-2 Earth mass atmosphere\n",
        "atm_frac = 1e-1\n",
        "Mp = 18 * u.earthMass\n",
        "alpha = 0.6\n",
        "m_dot = 1e-5 * u.earthMass / u.Myr * (Mp / u.earthMass)**(3.0 * alpha - 1.0)\n",
        "t_loss = atm_frac * Mp / m_dot\n",
        "print(\"Time to loss is \", t_loss.to(u.Myr))"
      ],
      "metadata": {
        "colab": {
          "base_uri": "https://localhost:8080/"
        },
        "id": "Pi7HO1O6RXId",
        "outputId": "1bf3bf1e-f7c9-4870-949c-37ddcef9ca8f"
      },
      "execution_count": 12,
      "outputs": [
        {
          "output_type": "stream",
          "name": "stdout",
          "text": [
            "Time to loss is  17826.024579660043 Myr\n"
          ]
        }
      ]
    },
    {
      "cell_type": "markdown",
      "source": [
        "A planet this large, close to the size of Neptune, has an atmospheric escape timescale so larger that it's larger than the entire age of the universe, which is about 13.8 billion years (13800 Myr)"
      ],
      "metadata": {
        "id": "hhedfDFnSnQ6"
      }
    },
    {
      "cell_type": "markdown",
      "source": [
        "This time scale is too long and the alpha that we are using is for mature planets. We'll change it to a higher alpha which is more appropriate for young planets."
      ],
      "metadata": {
        "id": "NK6STOIGRbtS"
      }
    },
    {
      "cell_type": "code",
      "source": [
        "# For an Mp = 18 * M_earth planet with 1e-2 Earth mass atmosphere\n",
        "atm_frac = 1e-1\n",
        "Mp = 18 * u.earthMass\n",
        "alpha = 1.0\n",
        "m_dot = 1e-5 * u.earthMass / u.Myr * (Mp / u.earthMass)**(3.0 * alpha - 1.0)\n",
        "t_loss = atm_frac * Mp / m_dot\n",
        "print(\"Time to loss is \", t_loss.to(u.Myr))"
      ],
      "metadata": {
        "colab": {
          "base_uri": "https://localhost:8080/"
        },
        "id": "kUa7TI-vRYyc",
        "outputId": "498bf038-f1c0-4b87-8703-2b0778dd6516"
      },
      "execution_count": 13,
      "outputs": [
        {
          "output_type": "stream",
          "name": "stdout",
          "text": [
            "Time to loss is  555.5555555555555 Myr\n"
          ]
        }
      ]
    },
    {
      "cell_type": "markdown",
      "source": [
        "Now this time scale makes a bit more sense, fitting within an appropriate range of time to keep their atmosphere."
      ],
      "metadata": {
        "id": "JpzqKar7TY6r"
      }
    },
    {
      "cell_type": "markdown",
      "source": [
        "For a bigger planet"
      ],
      "metadata": {
        "id": "7Hcrlg-ORfX7"
      }
    },
    {
      "cell_type": "code",
      "source": [
        "# For an Mp = 40 * M_earth planet with 1e-2 Earth mass atmosphere\n",
        "atm_frac = 1e-2\n",
        "Mp = 40 * u.earthMass\n",
        "alpha = 1.0\n",
        "m_dot = 1e-5 * u.earthMass / u.Myr * (Mp / u.earthMass)**(3.0 * alpha - 1.0)\n",
        "t_loss = atm_frac * Mp / m_dot\n",
        "print(\"Time to loss is \", t_loss.to(u.Myr))"
      ],
      "metadata": {
        "colab": {
          "base_uri": "https://localhost:8080/"
        },
        "id": "LCam0dFORdiE",
        "outputId": "2a054691-eb63-42aa-ac6a-136b39d46c3e"
      },
      "execution_count": 14,
      "outputs": [
        {
          "output_type": "stream",
          "name": "stdout",
          "text": [
            "Time to loss is  25.0 Myr\n"
          ]
        }
      ]
    },
    {
      "cell_type": "markdown",
      "source": [
        "As you can see, a higher alpha for a bigger planet actually makes the timescale for atmospheric escape much much smaller. This makes sense because alpha has to do with the mass-radius relationship of the planet."
      ],
      "metadata": {
        "id": "mhIseFFnThph"
      }
    }
  ]
}
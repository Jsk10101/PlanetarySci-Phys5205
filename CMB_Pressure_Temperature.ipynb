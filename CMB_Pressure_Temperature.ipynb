{
  "nbformat": 4,
  "nbformat_minor": 0,
  "metadata": {
    "colab": {
      "provenance": [],
      "include_colab_link": true
    },
    "kernelspec": {
      "name": "python3",
      "display_name": "Python 3"
    },
    "language_info": {
      "name": "python"
    }
  },
  "cells": [
    {
      "cell_type": "markdown",
      "metadata": {
        "id": "view-in-github",
        "colab_type": "text"
      },
      "source": [
        "<a href=\"https://colab.research.google.com/github/Jsk10101/PlanetarySci-Phys5205/blob/main/CMB_Pressure_Temperature.ipynb\" target=\"_parent\"><img src=\"https://colab.research.google.com/assets/colab-badge.svg\" alt=\"Open In Colab\"/></a>"
      ]
    },
    {
      "cell_type": "code",
      "execution_count": 1,
      "metadata": {
        "id": "gyeEcTfgU-_C"
      },
      "outputs": [],
      "source": [
        "# Import necessary files\n",
        "import astropy.units as u\n",
        "import astropy.constants as ac\n",
        "import numpy as np"
      ]
    },
    {
      "cell_type": "code",
      "source": [
        "# Densities\n",
        "rho_m = 5 * u.g / u.cm**3\n",
        "rho_c = 13 * u.g / u.cm**3\n",
        "# Radii\n",
        "r_inner = 0.5 * u.earthRad\n",
        "r_outer = 1.0 * u.earthRad\n",
        "# Regions\n",
        "t_1 = 4 * np.pi / 3 * r_inner**3 * (rho_c - rho_m) * (1 / r_inner - 1 / r_outer)\n",
        "t_2 = 4 * np.pi / 3 * rho_m / 2 * (r_outer**2 - r_inner**2)\n",
        "# Combine\n",
        "Press_CMB = rho_m * ac.G * (t_1 + t_2)\n",
        "print(\"Core mantle boundary pressure = \", Press_CMB.to(1e9 * u.pascal).value, 'GPa')"
      ],
      "metadata": {
        "colab": {
          "base_uri": "https://localhost:8080/"
        },
        "id": "XIJOnWH1VUdD",
        "outputId": "3111c758-797a-406c-f89c-5a68da60a0dd"
      },
      "execution_count": 8,
      "outputs": [
        {
          "output_type": "stream",
          "name": "stdout",
          "text": [
            "Core mantle boundary pressure =  163.4876060669441 GPa\n"
          ]
        }
      ]
    },
    {
      "cell_type": "code",
      "source": [
        "# Find boundary temp\n",
        "mu = 1 * ac.m_p\n",
        "Temp_CMB = Press_CMB / rho_m * mu / ac.k_B\n",
        "print(\"Core mantle boundary temperature = \", T_CMB.to(u.K))"
      ],
      "metadata": {
        "colab": {
          "base_uri": "https://localhost:8080/"
        },
        "id": "cqAd9xEGWUsM",
        "outputId": "8c11ea4e-a002-4c20-faf5-b5e6a23ce4bc"
      },
      "execution_count": 9,
      "outputs": [
        {
          "output_type": "stream",
          "name": "stdout",
          "text": [
            "Core mantle boundary temperature =  3961.2233689976956 K\n"
          ]
        }
      ]
    },
    {
      "cell_type": "code",
      "source": [
        "# Retry boundary with a different gamma\n",
        "Press_surface = 1.0 * u.bar\n",
        "Temp_surface = 300 * u.K\n",
        "gamma = 1.3\n",
        "Temp_CMB = Temp_surface * (Press_CMB / Press_surface)**((gamma - 1)/gamma)\n",
        "print(\"Core mantle boundary temperature = \", T_CMB.to(u.K))"
      ],
      "metadata": {
        "colab": {
          "base_uri": "https://localhost:8080/"
        },
        "id": "ZiE5-UofVtqp",
        "outputId": "b9ba10d6-b9a9-44af-b725-cec417d7029d"
      },
      "execution_count": 11,
      "outputs": [
        {
          "output_type": "stream",
          "name": "stdout",
          "text": [
            "Core mantle boundary temperature =  3961.2233689976956 K\n"
          ]
        }
      ]
    },
    {
      "cell_type": "code",
      "source": [
        "# Retry pressure\n",
        "t_3 = 4 * np.pi / 3 * rho_c / 2 * r_inner**2\n",
        "Press_core = Press_CMB + rho_c * ac.G * t_3\n",
        "print(\"Core pressure =\", Press_core.to(1e9 * u.pascal).value)"
      ],
      "metadata": {
        "colab": {
          "base_uri": "https://localhost:8080/"
        },
        "id": "7yCxHmfbXoEJ",
        "outputId": "f6d648a1-a651-4acc-d241-b2fc74f60ebd"
      },
      "execution_count": 14,
      "outputs": [
        {
          "output_type": "stream",
          "name": "stdout",
          "text": [
            "Core pressure = 403.7433054174968\n"
          ]
        }
      ]
    },
    {
      "cell_type": "code",
      "source": [
        "# Apply a bigger gamma to see how it changes\n",
        "gamma = 2.0\n",
        "Temp_core = ((Press_CMB**(1-gamma) * Temp_CMB**gamma) / (Press_core**(1-gamma)))**(1/gamma)\n",
        "print(\"Core temperature =\", Temp_core.to(u.K))"
      ],
      "metadata": {
        "colab": {
          "base_uri": "https://localhost:8080/"
        },
        "id": "u2QPWPRnZ36N",
        "outputId": "32262a0d-9296-4960-d667-6d241ed8f8b2"
      },
      "execution_count": 17,
      "outputs": [
        {
          "output_type": "stream",
          "name": "stdout",
          "text": [
            "Core temperature = 12803.025787357801 K\n"
          ]
        }
      ]
    },
    {
      "cell_type": "code",
      "source": [
        "# Pressures at Core-mantle boundary\n",
        "print(Press_CMB.to(u.bar))"
      ],
      "metadata": {
        "id": "I5MbthaVd3eG",
        "colab": {
          "base_uri": "https://localhost:8080/"
        },
        "outputId": "0b9ffbad-3af1-4898-8119-10c2173af16f"
      },
      "execution_count": 18,
      "outputs": [
        {
          "output_type": "stream",
          "name": "stdout",
          "text": [
            "1634876.060669441 bar\n"
          ]
        }
      ]
    }
  ]
}